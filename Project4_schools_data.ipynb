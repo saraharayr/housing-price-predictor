{
 "cells": [
  {
   "cell_type": "markdown",
   "metadata": {},
   "source": [
    "# code to merge two piece of csv files for school data"
   ]
  },
  {
   "cell_type": "code",
   "execution_count": 1,
   "metadata": {},
   "outputs": [],
   "source": [
    "import pandas as pd\n",
    "import numpy as np"
   ]
  },
  {
   "cell_type": "code",
   "execution_count": 2,
   "metadata": {},
   "outputs": [],
   "source": [
    "schools_df1=pd.read_csv('birminghamschools.csv')\n",
    "schools_df2=pd.read_csv('330_school_information.csv')"
   ]
  },
  {
   "cell_type": "code",
   "execution_count": 3,
   "metadata": {},
   "outputs": [
    {
     "data": {
      "text/html": [
       "<div>\n",
       "<style scoped>\n",
       "    .dataframe tbody tr th:only-of-type {\n",
       "        vertical-align: middle;\n",
       "    }\n",
       "\n",
       "    .dataframe tbody tr th {\n",
       "        vertical-align: top;\n",
       "    }\n",
       "\n",
       "    .dataframe thead th {\n",
       "        text-align: right;\n",
       "    }\n",
       "</style>\n",
       "<table border=\"1\" class=\"dataframe\">\n",
       "  <thead>\n",
       "    <tr style=\"text-align: right;\">\n",
       "      <th></th>\n",
       "      <th>School_Name</th>\n",
       "      <th>STREET</th>\n",
       "      <th>POSTCODE</th>\n",
       "      <th>Easting</th>\n",
       "      <th>Northing</th>\n",
       "      <th>WEB_SITE</th>\n",
       "      <th>School_Group</th>\n",
       "      <th>MAINTAIN_STATUS</th>\n",
       "      <th>LEA_NO</th>\n",
       "      <th>DCFS_No</th>\n",
       "      <th>LNG</th>\n",
       "      <th>LAT</th>\n",
       "    </tr>\n",
       "  </thead>\n",
       "  <tbody>\n",
       "    <tr>\n",
       "      <th>0</th>\n",
       "      <td>Acocks Green Primary School</td>\n",
       "      <td>Westley Road</td>\n",
       "      <td>B27 7UQ</td>\n",
       "      <td>411976</td>\n",
       "      <td>283216</td>\n",
       "      <td>http://acocks.schooljotter2.com/</td>\n",
       "      <td>Primary</td>\n",
       "      <td>Academy Converter</td>\n",
       "      <td>330</td>\n",
       "      <td>2020</td>\n",
       "      <td>-1.825223</td>\n",
       "      <td>52.446795</td>\n",
       "    </tr>\n",
       "    <tr>\n",
       "      <th>1</th>\n",
       "      <td>Adderley Nursery School</td>\n",
       "      <td>Adderley Road</td>\n",
       "      <td>B8 1EH</td>\n",
       "      <td>409476</td>\n",
       "      <td>287857</td>\n",
       "      <td>http://www.addleyn.bham.sch.uk/</td>\n",
       "      <td>Nursery</td>\n",
       "      <td>LA Nursery School</td>\n",
       "      <td>330</td>\n",
       "      <td>1027</td>\n",
       "      <td>-1.861875</td>\n",
       "      <td>52.488557</td>\n",
       "    </tr>\n",
       "    <tr>\n",
       "      <th>2</th>\n",
       "      <td>Adderley Primary School</td>\n",
       "      <td>Arden Road</td>\n",
       "      <td>B8 1DZ</td>\n",
       "      <td>409534</td>\n",
       "      <td>287331</td>\n",
       "      <td>http://www.adderleyprimary.co.uk/</td>\n",
       "      <td>Primary</td>\n",
       "      <td>Community School</td>\n",
       "      <td>330</td>\n",
       "      <td>2010</td>\n",
       "      <td>-1.861051</td>\n",
       "      <td>52.483827</td>\n",
       "    </tr>\n",
       "    <tr>\n",
       "      <th>3</th>\n",
       "      <td>Al-Furqan Primary School</td>\n",
       "      <td>Reddings Lane</td>\n",
       "      <td>B11 3EY</td>\n",
       "      <td>410459</td>\n",
       "      <td>283448</td>\n",
       "      <td>http://www.al-furqan-pri.bham.sch.uk/</td>\n",
       "      <td>Primary</td>\n",
       "      <td>Voluntary Aided School</td>\n",
       "      <td>330</td>\n",
       "      <td>5949</td>\n",
       "      <td>-1.847550</td>\n",
       "      <td>52.448903</td>\n",
       "    </tr>\n",
       "    <tr>\n",
       "      <th>4</th>\n",
       "      <td>Al-Hijrah School</td>\n",
       "      <td>Cherrywood Centre, Burbidge Road</td>\n",
       "      <td>B9 4US</td>\n",
       "      <td>410058</td>\n",
       "      <td>287022</td>\n",
       "      <td>http://www.alhijrahschool.co.uk/</td>\n",
       "      <td>All Through</td>\n",
       "      <td>Voluntary Aided School</td>\n",
       "      <td>330</td>\n",
       "      <td>4334</td>\n",
       "      <td>-1.853329</td>\n",
       "      <td>52.481040</td>\n",
       "    </tr>\n",
       "  </tbody>\n",
       "</table>\n",
       "</div>"
      ],
      "text/plain": [
       "                   School_Name                            STREET POSTCODE  \\\n",
       "0  Acocks Green Primary School                      Westley Road  B27 7UQ   \n",
       "1      Adderley Nursery School                     Adderley Road   B8 1EH   \n",
       "2      Adderley Primary School                        Arden Road   B8 1DZ   \n",
       "3     Al-Furqan Primary School                     Reddings Lane  B11 3EY   \n",
       "4             Al-Hijrah School  Cherrywood Centre, Burbidge Road   B9 4US   \n",
       "\n",
       "   Easting  Northing                               WEB_SITE School_Group  \\\n",
       "0   411976    283216       http://acocks.schooljotter2.com/      Primary   \n",
       "1   409476    287857        http://www.addleyn.bham.sch.uk/      Nursery   \n",
       "2   409534    287331      http://www.adderleyprimary.co.uk/      Primary   \n",
       "3   410459    283448  http://www.al-furqan-pri.bham.sch.uk/      Primary   \n",
       "4   410058    287022       http://www.alhijrahschool.co.uk/  All Through   \n",
       "\n",
       "          MAINTAIN_STATUS  LEA_NO  DCFS_No       LNG        LAT  \n",
       "0       Academy Converter     330     2020 -1.825223  52.446795  \n",
       "1       LA Nursery School     330     1027 -1.861875  52.488557  \n",
       "2        Community School     330     2010 -1.861051  52.483827  \n",
       "3  Voluntary Aided School     330     5949 -1.847550  52.448903  \n",
       "4  Voluntary Aided School     330     4334 -1.853329  52.481040  "
      ]
     },
     "execution_count": 3,
     "metadata": {},
     "output_type": "execute_result"
    }
   ],
   "source": [
    "schools_df1.head()"
   ]
  },
  {
   "cell_type": "code",
   "execution_count": 4,
   "metadata": {},
   "outputs": [
    {
     "data": {
      "text/plain": [
       "Index(['School_Name', 'STREET', 'POSTCODE', 'Easting', 'Northing', 'WEB_SITE',\n",
       "       'School_Group', 'MAINTAIN_STATUS', 'LEA_NO', 'DCFS_No', 'LNG', 'LAT'],\n",
       "      dtype='object')"
      ]
     },
     "execution_count": 4,
     "metadata": {},
     "output_type": "execute_result"
    }
   ],
   "source": [
    "schools_df1.columns"
   ]
  },
  {
   "cell_type": "code",
   "execution_count": 5,
   "metadata": {},
   "outputs": [],
   "source": [
    "schools_df1.drop(['LEA_NO','DCFS_No','Easting', 'Northing','MAINTAIN_STATUS','WEB_SITE'],axis=1, inplace=True)"
   ]
  },
  {
   "cell_type": "code",
   "execution_count": 6,
   "metadata": {},
   "outputs": [
    {
     "data": {
      "text/plain": [
       "Index(['School_Name', 'STREET', 'POSTCODE', 'School_Group', 'LNG', 'LAT'], dtype='object')"
      ]
     },
     "execution_count": 6,
     "metadata": {},
     "output_type": "execute_result"
    }
   ],
   "source": [
    "schools_df1.columns"
   ]
  },
  {
   "cell_type": "code",
   "execution_count": 7,
   "metadata": {},
   "outputs": [
    {
     "data": {
      "text/html": [
       "<div>\n",
       "<style scoped>\n",
       "    .dataframe tbody tr th:only-of-type {\n",
       "        vertical-align: middle;\n",
       "    }\n",
       "\n",
       "    .dataframe tbody tr th {\n",
       "        vertical-align: top;\n",
       "    }\n",
       "\n",
       "    .dataframe thead th {\n",
       "        text-align: right;\n",
       "    }\n",
       "</style>\n",
       "<table border=\"1\" class=\"dataframe\">\n",
       "  <thead>\n",
       "    <tr style=\"text-align: right;\">\n",
       "      <th></th>\n",
       "      <th>School_Name</th>\n",
       "      <th>STREET</th>\n",
       "      <th>POSTCODE</th>\n",
       "      <th>School_Group</th>\n",
       "      <th>LNG</th>\n",
       "      <th>LAT</th>\n",
       "    </tr>\n",
       "  </thead>\n",
       "  <tbody>\n",
       "    <tr>\n",
       "      <th>0</th>\n",
       "      <td>Acocks Green Primary School</td>\n",
       "      <td>Westley Road</td>\n",
       "      <td>B27 7UQ</td>\n",
       "      <td>Primary</td>\n",
       "      <td>-1.825223</td>\n",
       "      <td>52.446795</td>\n",
       "    </tr>\n",
       "    <tr>\n",
       "      <th>1</th>\n",
       "      <td>Adderley Nursery School</td>\n",
       "      <td>Adderley Road</td>\n",
       "      <td>B8 1EH</td>\n",
       "      <td>Nursery</td>\n",
       "      <td>-1.861875</td>\n",
       "      <td>52.488557</td>\n",
       "    </tr>\n",
       "    <tr>\n",
       "      <th>2</th>\n",
       "      <td>Adderley Primary School</td>\n",
       "      <td>Arden Road</td>\n",
       "      <td>B8 1DZ</td>\n",
       "      <td>Primary</td>\n",
       "      <td>-1.861051</td>\n",
       "      <td>52.483827</td>\n",
       "    </tr>\n",
       "    <tr>\n",
       "      <th>3</th>\n",
       "      <td>Al-Furqan Primary School</td>\n",
       "      <td>Reddings Lane</td>\n",
       "      <td>B11 3EY</td>\n",
       "      <td>Primary</td>\n",
       "      <td>-1.847550</td>\n",
       "      <td>52.448903</td>\n",
       "    </tr>\n",
       "    <tr>\n",
       "      <th>4</th>\n",
       "      <td>Al-Hijrah School</td>\n",
       "      <td>Cherrywood Centre, Burbidge Road</td>\n",
       "      <td>B9 4US</td>\n",
       "      <td>All Through</td>\n",
       "      <td>-1.853329</td>\n",
       "      <td>52.481040</td>\n",
       "    </tr>\n",
       "  </tbody>\n",
       "</table>\n",
       "</div>"
      ],
      "text/plain": [
       "                   School_Name                            STREET POSTCODE  \\\n",
       "0  Acocks Green Primary School                      Westley Road  B27 7UQ   \n",
       "1      Adderley Nursery School                     Adderley Road   B8 1EH   \n",
       "2      Adderley Primary School                        Arden Road   B8 1DZ   \n",
       "3     Al-Furqan Primary School                     Reddings Lane  B11 3EY   \n",
       "4             Al-Hijrah School  Cherrywood Centre, Burbidge Road   B9 4US   \n",
       "\n",
       "  School_Group       LNG        LAT  \n",
       "0      Primary -1.825223  52.446795  \n",
       "1      Nursery -1.861875  52.488557  \n",
       "2      Primary -1.861051  52.483827  \n",
       "3      Primary -1.847550  52.448903  \n",
       "4  All Through -1.853329  52.481040  "
      ]
     },
     "execution_count": 7,
     "metadata": {},
     "output_type": "execute_result"
    }
   ],
   "source": [
    "schools_df1.head()"
   ]
  },
  {
   "cell_type": "code",
   "execution_count": 8,
   "metadata": {},
   "outputs": [
    {
     "data": {
      "text/html": [
       "<div>\n",
       "<style scoped>\n",
       "    .dataframe tbody tr th:only-of-type {\n",
       "        vertical-align: middle;\n",
       "    }\n",
       "\n",
       "    .dataframe tbody tr th {\n",
       "        vertical-align: top;\n",
       "    }\n",
       "\n",
       "    .dataframe thead th {\n",
       "        text-align: right;\n",
       "    }\n",
       "</style>\n",
       "<table border=\"1\" class=\"dataframe\">\n",
       "  <thead>\n",
       "    <tr style=\"text-align: right;\">\n",
       "      <th></th>\n",
       "      <th>URN</th>\n",
       "      <th>LANAME</th>\n",
       "      <th>LA</th>\n",
       "      <th>ESTAB</th>\n",
       "      <th>LAESTAB</th>\n",
       "      <th>SCHNAME</th>\n",
       "      <th>STREET</th>\n",
       "      <th>LOCALITY</th>\n",
       "      <th>ADDRESS3</th>\n",
       "      <th>TOWN</th>\n",
       "      <th>...</th>\n",
       "      <th>ISPRIMARY</th>\n",
       "      <th>ISSECONDARY</th>\n",
       "      <th>ISPOST16</th>\n",
       "      <th>AGELOW</th>\n",
       "      <th>AGEHIGH</th>\n",
       "      <th>GENDER</th>\n",
       "      <th>RELCHAR</th>\n",
       "      <th>ADMPOL</th>\n",
       "      <th>OFSTEDRATING</th>\n",
       "      <th>OFSTEDLASTINSP</th>\n",
       "    </tr>\n",
       "  </thead>\n",
       "  <tbody>\n",
       "    <tr>\n",
       "      <th>0</th>\n",
       "      <td>103157</td>\n",
       "      <td>Birmingham</td>\n",
       "      <td>330</td>\n",
       "      <td>2008</td>\n",
       "      <td>3302008</td>\n",
       "      <td>Shaw Hill Primary School</td>\n",
       "      <td>Anthony Road</td>\n",
       "      <td>Alum Rock</td>\n",
       "      <td>NaN</td>\n",
       "      <td>Birmingham</td>\n",
       "      <td>...</td>\n",
       "      <td>1</td>\n",
       "      <td>0</td>\n",
       "      <td>0</td>\n",
       "      <td>3</td>\n",
       "      <td>11</td>\n",
       "      <td>Mixed</td>\n",
       "      <td>Does not apply</td>\n",
       "      <td>Not applicable</td>\n",
       "      <td>Outstanding</td>\n",
       "      <td>09-03-2017</td>\n",
       "    </tr>\n",
       "    <tr>\n",
       "      <th>1</th>\n",
       "      <td>103159</td>\n",
       "      <td>Birmingham</td>\n",
       "      <td>330</td>\n",
       "      <td>2010</td>\n",
       "      <td>3302010</td>\n",
       "      <td>Adderley Primary School</td>\n",
       "      <td>Arden Road</td>\n",
       "      <td>Saltley</td>\n",
       "      <td>NaN</td>\n",
       "      <td>Birmingham</td>\n",
       "      <td>...</td>\n",
       "      <td>1</td>\n",
       "      <td>0</td>\n",
       "      <td>0</td>\n",
       "      <td>4</td>\n",
       "      <td>11</td>\n",
       "      <td>Mixed</td>\n",
       "      <td>Does not apply</td>\n",
       "      <td>Not applicable</td>\n",
       "      <td>Good</td>\n",
       "      <td>14-12-2016</td>\n",
       "    </tr>\n",
       "    <tr>\n",
       "      <th>2</th>\n",
       "      <td>103162</td>\n",
       "      <td>Birmingham</td>\n",
       "      <td>330</td>\n",
       "      <td>2014</td>\n",
       "      <td>3302014</td>\n",
       "      <td>Barford Primary School</td>\n",
       "      <td>Barford Road</td>\n",
       "      <td>Ladywood</td>\n",
       "      <td>NaN</td>\n",
       "      <td>Birmingham</td>\n",
       "      <td>...</td>\n",
       "      <td>1</td>\n",
       "      <td>0</td>\n",
       "      <td>0</td>\n",
       "      <td>3</td>\n",
       "      <td>11</td>\n",
       "      <td>Mixed</td>\n",
       "      <td>Does not apply</td>\n",
       "      <td>Not applicable</td>\n",
       "      <td>Good</td>\n",
       "      <td>05-07-2017</td>\n",
       "    </tr>\n",
       "    <tr>\n",
       "      <th>3</th>\n",
       "      <td>103163</td>\n",
       "      <td>Birmingham</td>\n",
       "      <td>330</td>\n",
       "      <td>2016</td>\n",
       "      <td>3302016</td>\n",
       "      <td>Beeches Junior School</td>\n",
       "      <td>Beeches Junior School, Beeches Road</td>\n",
       "      <td>Great Barr</td>\n",
       "      <td>NaN</td>\n",
       "      <td>Birmingham</td>\n",
       "      <td>...</td>\n",
       "      <td>1</td>\n",
       "      <td>0</td>\n",
       "      <td>0</td>\n",
       "      <td>7</td>\n",
       "      <td>11</td>\n",
       "      <td>Mixed</td>\n",
       "      <td>Does not apply</td>\n",
       "      <td>Not applicable</td>\n",
       "      <td>Good</td>\n",
       "      <td>10-01-2018</td>\n",
       "    </tr>\n",
       "    <tr>\n",
       "      <th>4</th>\n",
       "      <td>103164</td>\n",
       "      <td>Birmingham</td>\n",
       "      <td>330</td>\n",
       "      <td>2017</td>\n",
       "      <td>3302017</td>\n",
       "      <td>Beeches Infant School</td>\n",
       "      <td>Beeches Road</td>\n",
       "      <td>NaN</td>\n",
       "      <td>NaN</td>\n",
       "      <td>Birmingham</td>\n",
       "      <td>...</td>\n",
       "      <td>1</td>\n",
       "      <td>0</td>\n",
       "      <td>0</td>\n",
       "      <td>4</td>\n",
       "      <td>7</td>\n",
       "      <td>Mixed</td>\n",
       "      <td>Does not apply</td>\n",
       "      <td>Not applicable</td>\n",
       "      <td>Good</td>\n",
       "      <td>28-06-2017</td>\n",
       "    </tr>\n",
       "  </tbody>\n",
       "</table>\n",
       "<p>5 rows × 26 columns</p>\n",
       "</div>"
      ],
      "text/plain": [
       "      URN      LANAME   LA  ESTAB  LAESTAB                   SCHNAME  \\\n",
       "0  103157  Birmingham  330   2008  3302008  Shaw Hill Primary School   \n",
       "1  103159  Birmingham  330   2010  3302010   Adderley Primary School   \n",
       "2  103162  Birmingham  330   2014  3302014    Barford Primary School   \n",
       "3  103163  Birmingham  330   2016  3302016     Beeches Junior School   \n",
       "4  103164  Birmingham  330   2017  3302017     Beeches Infant School   \n",
       "\n",
       "                                STREET    LOCALITY ADDRESS3        TOWN  ...  \\\n",
       "0                         Anthony Road   Alum Rock      NaN  Birmingham  ...   \n",
       "1                           Arden Road     Saltley      NaN  Birmingham  ...   \n",
       "2                         Barford Road    Ladywood      NaN  Birmingham  ...   \n",
       "3  Beeches Junior School, Beeches Road  Great Barr      NaN  Birmingham  ...   \n",
       "4                         Beeches Road         NaN      NaN  Birmingham  ...   \n",
       "\n",
       "  ISPRIMARY ISSECONDARY ISPOST16 AGELOW AGEHIGH GENDER         RELCHAR  \\\n",
       "0         1           0        0      3      11  Mixed  Does not apply   \n",
       "1         1           0        0      4      11  Mixed  Does not apply   \n",
       "2         1           0        0      3      11  Mixed  Does not apply   \n",
       "3         1           0        0      7      11  Mixed  Does not apply   \n",
       "4         1           0        0      4       7  Mixed  Does not apply   \n",
       "\n",
       "           ADMPOL  OFSTEDRATING  OFSTEDLASTINSP  \n",
       "0  Not applicable   Outstanding      09-03-2017  \n",
       "1  Not applicable          Good      14-12-2016  \n",
       "2  Not applicable          Good      05-07-2017  \n",
       "3  Not applicable          Good      10-01-2018  \n",
       "4  Not applicable          Good      28-06-2017  \n",
       "\n",
       "[5 rows x 26 columns]"
      ]
     },
     "execution_count": 8,
     "metadata": {},
     "output_type": "execute_result"
    }
   ],
   "source": [
    "schools_df2.head()"
   ]
  },
  {
   "cell_type": "code",
   "execution_count": 9,
   "metadata": {},
   "outputs": [
    {
     "data": {
      "text/plain": [
       "Index(['URN', 'LANAME', 'LA', 'ESTAB', 'LAESTAB', 'SCHNAME', 'STREET',\n",
       "       'LOCALITY', 'ADDRESS3', 'TOWN', 'POSTCODE', 'SCHSTATUS', 'OPENDATE',\n",
       "       'CLOSEDATE', 'MINORGROUP', 'SCHOOLTYPE', 'ISPRIMARY', 'ISSECONDARY',\n",
       "       'ISPOST16', 'AGELOW', 'AGEHIGH', 'GENDER', 'RELCHAR', 'ADMPOL',\n",
       "       'OFSTEDRATING', 'OFSTEDLASTINSP'],\n",
       "      dtype='object')"
      ]
     },
     "execution_count": 9,
     "metadata": {},
     "output_type": "execute_result"
    }
   ],
   "source": [
    "schools_df2.columns"
   ]
  },
  {
   "cell_type": "code",
   "execution_count": 10,
   "metadata": {},
   "outputs": [],
   "source": [
    "schools_df2.drop(['URN', 'LANAME', 'ADDRESS3', 'LA', 'ESTAB', 'LAESTAB','OPENDATE', 'CLOSEDATE','RELCHAR', 'ADMPOL', 'MINORGROUP','OFSTEDLASTINSP'],axis=1, inplace=True)"
   ]
  },
  {
   "cell_type": "code",
   "execution_count": 11,
   "metadata": {},
   "outputs": [
    {
     "data": {
      "text/html": [
       "<div>\n",
       "<style scoped>\n",
       "    .dataframe tbody tr th:only-of-type {\n",
       "        vertical-align: middle;\n",
       "    }\n",
       "\n",
       "    .dataframe tbody tr th {\n",
       "        vertical-align: top;\n",
       "    }\n",
       "\n",
       "    .dataframe thead th {\n",
       "        text-align: right;\n",
       "    }\n",
       "</style>\n",
       "<table border=\"1\" class=\"dataframe\">\n",
       "  <thead>\n",
       "    <tr style=\"text-align: right;\">\n",
       "      <th></th>\n",
       "      <th>SCHNAME</th>\n",
       "      <th>STREET</th>\n",
       "      <th>LOCALITY</th>\n",
       "      <th>TOWN</th>\n",
       "      <th>POSTCODE</th>\n",
       "      <th>SCHSTATUS</th>\n",
       "      <th>SCHOOLTYPE</th>\n",
       "      <th>ISPRIMARY</th>\n",
       "      <th>ISSECONDARY</th>\n",
       "      <th>ISPOST16</th>\n",
       "      <th>AGELOW</th>\n",
       "      <th>AGEHIGH</th>\n",
       "      <th>GENDER</th>\n",
       "      <th>OFSTEDRATING</th>\n",
       "    </tr>\n",
       "  </thead>\n",
       "  <tbody>\n",
       "    <tr>\n",
       "      <th>0</th>\n",
       "      <td>Shaw Hill Primary School</td>\n",
       "      <td>Anthony Road</td>\n",
       "      <td>Alum Rock</td>\n",
       "      <td>Birmingham</td>\n",
       "      <td>B8 3AN</td>\n",
       "      <td>Open</td>\n",
       "      <td>Community school</td>\n",
       "      <td>1</td>\n",
       "      <td>0</td>\n",
       "      <td>0</td>\n",
       "      <td>3</td>\n",
       "      <td>11</td>\n",
       "      <td>Mixed</td>\n",
       "      <td>Outstanding</td>\n",
       "    </tr>\n",
       "    <tr>\n",
       "      <th>1</th>\n",
       "      <td>Adderley Primary School</td>\n",
       "      <td>Arden Road</td>\n",
       "      <td>Saltley</td>\n",
       "      <td>Birmingham</td>\n",
       "      <td>B8 1DZ</td>\n",
       "      <td>Open</td>\n",
       "      <td>Community school</td>\n",
       "      <td>1</td>\n",
       "      <td>0</td>\n",
       "      <td>0</td>\n",
       "      <td>4</td>\n",
       "      <td>11</td>\n",
       "      <td>Mixed</td>\n",
       "      <td>Good</td>\n",
       "    </tr>\n",
       "    <tr>\n",
       "      <th>2</th>\n",
       "      <td>Barford Primary School</td>\n",
       "      <td>Barford Road</td>\n",
       "      <td>Ladywood</td>\n",
       "      <td>Birmingham</td>\n",
       "      <td>B16 0EF</td>\n",
       "      <td>Open</td>\n",
       "      <td>Community school</td>\n",
       "      <td>1</td>\n",
       "      <td>0</td>\n",
       "      <td>0</td>\n",
       "      <td>3</td>\n",
       "      <td>11</td>\n",
       "      <td>Mixed</td>\n",
       "      <td>Good</td>\n",
       "    </tr>\n",
       "    <tr>\n",
       "      <th>3</th>\n",
       "      <td>Beeches Junior School</td>\n",
       "      <td>Beeches Junior School, Beeches Road</td>\n",
       "      <td>Great Barr</td>\n",
       "      <td>Birmingham</td>\n",
       "      <td>B42 2PY</td>\n",
       "      <td>Open</td>\n",
       "      <td>Community school</td>\n",
       "      <td>1</td>\n",
       "      <td>0</td>\n",
       "      <td>0</td>\n",
       "      <td>7</td>\n",
       "      <td>11</td>\n",
       "      <td>Mixed</td>\n",
       "      <td>Good</td>\n",
       "    </tr>\n",
       "    <tr>\n",
       "      <th>4</th>\n",
       "      <td>Beeches Infant School</td>\n",
       "      <td>Beeches Road</td>\n",
       "      <td>NaN</td>\n",
       "      <td>Birmingham</td>\n",
       "      <td>B42 2PY</td>\n",
       "      <td>Open</td>\n",
       "      <td>Community school</td>\n",
       "      <td>1</td>\n",
       "      <td>0</td>\n",
       "      <td>0</td>\n",
       "      <td>4</td>\n",
       "      <td>7</td>\n",
       "      <td>Mixed</td>\n",
       "      <td>Good</td>\n",
       "    </tr>\n",
       "  </tbody>\n",
       "</table>\n",
       "</div>"
      ],
      "text/plain": [
       "                    SCHNAME                               STREET    LOCALITY  \\\n",
       "0  Shaw Hill Primary School                         Anthony Road   Alum Rock   \n",
       "1   Adderley Primary School                           Arden Road     Saltley   \n",
       "2    Barford Primary School                         Barford Road    Ladywood   \n",
       "3     Beeches Junior School  Beeches Junior School, Beeches Road  Great Barr   \n",
       "4     Beeches Infant School                         Beeches Road         NaN   \n",
       "\n",
       "         TOWN POSTCODE SCHSTATUS        SCHOOLTYPE  ISPRIMARY  ISSECONDARY  \\\n",
       "0  Birmingham   B8 3AN      Open  Community school          1            0   \n",
       "1  Birmingham   B8 1DZ      Open  Community school          1            0   \n",
       "2  Birmingham  B16 0EF      Open  Community school          1            0   \n",
       "3  Birmingham  B42 2PY      Open  Community school          1            0   \n",
       "4  Birmingham  B42 2PY      Open  Community school          1            0   \n",
       "\n",
       "   ISPOST16  AGELOW  AGEHIGH GENDER OFSTEDRATING  \n",
       "0         0       3       11  Mixed  Outstanding  \n",
       "1         0       4       11  Mixed         Good  \n",
       "2         0       3       11  Mixed         Good  \n",
       "3         0       7       11  Mixed         Good  \n",
       "4         0       4        7  Mixed         Good  "
      ]
     },
     "execution_count": 11,
     "metadata": {},
     "output_type": "execute_result"
    }
   ],
   "source": [
    "schools_df2.head()"
   ]
  },
  {
   "cell_type": "code",
   "execution_count": 12,
   "metadata": {},
   "outputs": [],
   "source": [
    "combined_schools_df=pd.merge(schools_df1,schools_df2, how='inner', left_on='School_Name', right_on='SCHNAME')"
   ]
  },
  {
   "cell_type": "code",
   "execution_count": 13,
   "metadata": {},
   "outputs": [
    {
     "data": {
      "text/plain": [
       "Index(['School_Name', 'STREET_x', 'POSTCODE_x', 'School_Group', 'LNG', 'LAT',\n",
       "       'SCHNAME', 'STREET_y', 'LOCALITY', 'TOWN', 'POSTCODE_y', 'SCHSTATUS',\n",
       "       'SCHOOLTYPE', 'ISPRIMARY', 'ISSECONDARY', 'ISPOST16', 'AGELOW',\n",
       "       'AGEHIGH', 'GENDER', 'OFSTEDRATING'],\n",
       "      dtype='object')"
      ]
     },
     "execution_count": 13,
     "metadata": {},
     "output_type": "execute_result"
    }
   ],
   "source": [
    "combined_schools_df.columns"
   ]
  },
  {
   "cell_type": "code",
   "execution_count": 14,
   "metadata": {},
   "outputs": [],
   "source": [
    "combined_schools_df.drop(['POSTCODE_y','STREET_y','SCHNAME'],axis=1, inplace=True)"
   ]
  },
  {
   "cell_type": "code",
   "execution_count": 15,
   "metadata": {},
   "outputs": [
    {
     "data": {
      "text/plain": [
       "School_Name     373\n",
       "STREET_x        373\n",
       "POSTCODE_x      373\n",
       "School_Group    373\n",
       "LNG             373\n",
       "LAT             373\n",
       "LOCALITY        300\n",
       "TOWN            373\n",
       "SCHSTATUS       373\n",
       "SCHOOLTYPE      373\n",
       "ISPRIMARY       373\n",
       "ISSECONDARY     373\n",
       "ISPOST16        373\n",
       "AGELOW          373\n",
       "AGEHIGH         373\n",
       "GENDER          373\n",
       "OFSTEDRATING    333\n",
       "dtype: int64"
      ]
     },
     "execution_count": 15,
     "metadata": {},
     "output_type": "execute_result"
    }
   ],
   "source": [
    "combined_schools_df.count()"
   ]
  },
  {
   "cell_type": "code",
   "execution_count": 16,
   "metadata": {},
   "outputs": [
    {
     "data": {
      "text/plain": [
       "Index(['School_Name', 'STREET_x', 'POSTCODE_x', 'School_Group', 'LNG', 'LAT',\n",
       "       'LOCALITY', 'TOWN', 'SCHSTATUS', 'SCHOOLTYPE', 'ISPRIMARY',\n",
       "       'ISSECONDARY', 'ISPOST16', 'AGELOW', 'AGEHIGH', 'GENDER',\n",
       "       'OFSTEDRATING'],\n",
       "      dtype='object')"
      ]
     },
     "execution_count": 16,
     "metadata": {},
     "output_type": "execute_result"
    }
   ],
   "source": [
    "combined_schools_df.columns"
   ]
  },
  {
   "cell_type": "code",
   "execution_count": 17,
   "metadata": {},
   "outputs": [],
   "source": [
    "combined_schools_df.rename(columns={'STREET_x':'STREET','POSTCODE_x':'POSTCODE'}, inplace=True)"
   ]
  },
  {
   "cell_type": "code",
   "execution_count": 18,
   "metadata": {},
   "outputs": [
    {
     "data": {
      "text/plain": [
       "Index(['School_Name', 'STREET', 'POSTCODE', 'School_Group', 'LNG', 'LAT',\n",
       "       'LOCALITY', 'TOWN', 'SCHSTATUS', 'SCHOOLTYPE', 'ISPRIMARY',\n",
       "       'ISSECONDARY', 'ISPOST16', 'AGELOW', 'AGEHIGH', 'GENDER',\n",
       "       'OFSTEDRATING'],\n",
       "      dtype='object')"
      ]
     },
     "execution_count": 18,
     "metadata": {},
     "output_type": "execute_result"
    }
   ],
   "source": [
    "combined_schools_df.columns"
   ]
  },
  {
   "cell_type": "code",
   "execution_count": 20,
   "metadata": {},
   "outputs": [],
   "source": [
    "combined_schools_df.to_csv('combined_school_data.csv')"
   ]
  },
  {
   "cell_type": "code",
   "execution_count": null,
   "metadata": {},
   "outputs": [],
   "source": []
  }
 ],
 "metadata": {
  "kernelspec": {
   "display_name": "Python 3",
   "language": "python",
   "name": "python3"
  },
  "language_info": {
   "codemirror_mode": {
    "name": "ipython",
    "version": 3
   },
   "file_extension": ".py",
   "mimetype": "text/x-python",
   "name": "python",
   "nbconvert_exporter": "python",
   "pygments_lexer": "ipython3",
   "version": "3.8.5"
  }
 },
 "nbformat": 4,
 "nbformat_minor": 4
}
